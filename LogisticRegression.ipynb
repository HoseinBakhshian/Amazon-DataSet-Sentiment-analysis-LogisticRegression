{
  "nbformat": 4,
  "nbformat_minor": 0,
  "metadata": {
    "colab": {
      "provenance": [],
      "toc_visible": true,
      "include_colab_link": true
    },
    "kernelspec": {
      "name": "python3",
      "display_name": "Python 3"
    },
    "language_info": {
      "name": "python"
    }
  },
  "cells": [
    {
      "cell_type": "markdown",
      "metadata": {
        "id": "view-in-github",
        "colab_type": "text"
      },
      "source": [
        "<a href=\"https://colab.research.google.com/github/HoseinBakhshian/Amazon-DataSet-Sentiment-analysis-LogisticRegression/blob/main/LogisticRegression.ipynb\" target=\"_parent\"><img src=\"https://colab.research.google.com/assets/colab-badge.svg\" alt=\"Open In Colab\"/></a>"
      ]
    },
    {
      "cell_type": "code",
      "source": [
        "from google.colab import drive\n",
        "drive.mount('/content/drive')"
      ],
      "metadata": {
        "id": "UkDiZ_tG5D6b"
      },
      "execution_count": null,
      "outputs": []
    },
    {
      "cell_type": "code",
      "execution_count": null,
      "metadata": {
        "id": "VMA1eRKBmnuo"
      },
      "outputs": [],
      "source": [
        "import numpy as np\n",
        "import pandas as pd\n",
        "import sklearn as skl\n",
        "\n",
        "import matplotlib.pyplot as plt\n",
        "import seaborn as sns\n",
        "%matplotlib inline\n",
        "import re\n",
        "import nltk\n",
        "nltk.download('stopwords')\n",
        "nltk.download('punkt')\n",
        "nltk.download('wordnet')\n",
        "from nltk.corpus import stopwords\n",
        "from nltk.stem import WordNetLemmatizer\n",
        "from nltk.tokenize import word_tokenize\n",
        "\n",
        "from sklearn.model_selection import train_test_split\n",
        "from sklearn.feature_extraction.text import CountVectorizer\n",
        "from sklearn.linear_model import LogisticRegression\n",
        "from sklearn.metrics import accuracy_score, classification_report, confusion_matrix"
      ]
    },
    {
      "cell_type": "code",
      "source": [
        "#read dataset from google drive and skip on the bad lines\n",
        "data = pd.read_csv('/content/drive/MyDrive/amazon_reviews.txt', sep='\\t', on_bad_lines='skip' )\n",
        "\n",
        "#select a subset of dataset contain mentioned columns below\n",
        "data=data[['review_body','star_rating']]"
      ],
      "metadata": {
        "id": "GBudGppArOmp"
      },
      "execution_count": null,
      "outputs": []
    },
    {
      "cell_type": "code",
      "source": [
        "#determine the sentiment for each 'review_body' and add it to sentiment column\n",
        "data['Sentiment']=''\n",
        "data['Sentiment']=np.where((data['star_rating'] < 3), \"Negetive\", data['Sentiment'])\n",
        "data['Sentiment']=np.where((data['star_rating'] > 3 ), \"Positive\", data['Sentiment'])\n",
        "data['Sentiment']=np.where((data['star_rating'] == 3), \"Neutral\", data['Sentiment'])"
      ],
      "metadata": {
        "id": "Dj-4lDo7B6R2"
      },
      "execution_count": null,
      "outputs": []
    },
    {
      "cell_type": "code",
      "source": [
        "#show sentiments in diagram\n",
        "sns.countplot(x='Sentiment', data=data)"
      ],
      "metadata": {
        "id": "sF0Q_Ud7ls1B"
      },
      "execution_count": null,
      "outputs": []
    },
    {
      "cell_type": "code",
      "source": [
        "#define a preprocessing method\n",
        "def text_Preprocessing(text):\n",
        "  reviews=[text.lower() for text in text]                      #convert text to lower case\n",
        "  reviews=[re.sub(r'\\d+','',text) for text in reviews]         #remove digits\n",
        "  reviews=[re.sub(r'\\S+@\\S+','',text) for text in reviews]     #remove email\n",
        "  reviews=[re.sub(r'^\\w\\s','',text) for text in reviews]       #remove alphanumeric values\n",
        "  reviews=[re.sub(r'[^A-Za-z]+',' ',text) for text in reviews] #remove non words characters\n",
        "  reviews=[text.strip() for text in reviews]                   #remove extra spaces\n",
        "\n",
        "  stop_words=set(stopwords.words('english'))   #define stopwords in english with nltk\n",
        "  cleaned_reviews=[]\n",
        "  lem_reviews=[]\n",
        "\n",
        "  for review in reviews:\n",
        "    tokens=[word for word in word_tokenize(review) if not word in stop_words] #if review is not a stopword tokenize it and add it to tokens\n",
        "    cleaned_reviews.append(\" \".join(tokens)) # append cleaned review to cleaned_reviews\n",
        "  lemmatizer=WordNetLemmatizer()\n",
        "  for review in cleaned_reviews:\n",
        "    lem_reviews.append(\" \".join(list(map(lemmatizer.lemmatize, word_tokenize(review))))) #lemmatize words and apend them to lem_reviews\n",
        "  return lem_reviews"
      ],
      "metadata": {
        "id": "PL0oCxEXVRSb"
      },
      "execution_count": null,
      "outputs": []
    },
    {
      "cell_type": "code",
      "source": [
        "#convert review_body format to String\n",
        "data.review_body = data.review_body.astype(str)\n",
        "\n",
        "#select review_body column and apply preprocessing method to each row\n",
        "b=data['review_body']\n",
        "data['review_body']=text_Preprocessing(b)"
      ],
      "metadata": {
        "id": "4AHzCQvjKKv9"
      },
      "execution_count": null,
      "outputs": []
    },
    {
      "cell_type": "code",
      "source": [
        "# CountVectorizer used to transform a given text into a vector on the basis of the frequency (count) of each word that occurs in the entire text\n",
        "X = CountVectorizer().fit_transform(data['review_body'])\n",
        "Y = data['Sentiment']"
      ],
      "metadata": {
        "id": "pBs_kQLfW-q1"
      },
      "execution_count": null,
      "outputs": []
    },
    {
      "cell_type": "code",
      "source": [
        "#split data into validation, test, train\n",
        "X_main,X_test,Y_main,Y_test = train_test_split(X, Y, test_size=0.2, random_state=42)\n",
        "X_train,X_val,Y_train,Y_val = train_test_split(X_main, Y_main, test_size=0.2, random_state=42)"
      ],
      "metadata": {
        "id": "boNE7_jHFvz4"
      },
      "execution_count": null,
      "outputs": []
    },
    {
      "cell_type": "code",
      "source": [
        "#classification with LogisticRegression\n",
        "regression = LogisticRegression()\n",
        "regression.fit(X_train, Y_train)"
      ],
      "metadata": {
        "id": "hynPXfA5TnkA"
      },
      "execution_count": null,
      "outputs": []
    },
    {
      "cell_type": "code",
      "source": [
        "#predict the validation data\n",
        "regression_pred = regression.predict(X_val)\n",
        "regression_acc = accuracy_score(regression_pred, Y_val)\n",
        "print(\"validation accuracy: {:.2f}%\".format(regression_acc*100))"
      ],
      "metadata": {
        "id": "TxTyleccRs2F",
        "colab": {
          "base_uri": "https://localhost:8080/"
        },
        "outputId": "64098647-4c6b-4c81-ba1c-75e61b6389d7"
      },
      "execution_count": null,
      "outputs": [
        {
          "output_type": "stream",
          "name": "stdout",
          "text": [
            "validation accuracy: 85.84%\n"
          ]
        }
      ]
    },
    {
      "cell_type": "code",
      "source": [
        "#show predicted sentiments\n",
        "df = pd.DataFrame(regression_pred)\n",
        "df"
      ],
      "metadata": {
        "id": "1LblnIoI85cg"
      },
      "execution_count": null,
      "outputs": []
    },
    {
      "cell_type": "code",
      "source": [
        "#predict the test data\n",
        "regression_pred = regression.predict(X_test)\n",
        "regression_acc = accuracy_score(regression_pred, Y_test)\n",
        "print(\"test accuracy: {:.2f}%\".format(regression_acc*100))"
      ],
      "metadata": {
        "id": "sPqG2bewB-0A",
        "colab": {
          "base_uri": "https://localhost:8080/"
        },
        "outputId": "dd88755c-22b9-4b30-86c5-7db5eb7036f0"
      },
      "execution_count": null,
      "outputs": [
        {
          "output_type": "stream",
          "name": "stdout",
          "text": [
            "test accuracy: 85.76%\n"
          ]
        }
      ]
    },
    {
      "cell_type": "code",
      "source": [
        "#show predicted sentiments\n",
        "df = pd.DataFrame(regression_pred)\n",
        "df"
      ],
      "metadata": {
        "id": "_PSqP57cqRFp"
      },
      "execution_count": null,
      "outputs": []
    },
    {
      "cell_type": "code",
      "source": [
        "# use classification_report to show recall, precision, f1\n",
        "print(classification_report(Y_test, regression_pred))"
      ],
      "metadata": {
        "id": "1tXOLjGma11s",
        "colab": {
          "base_uri": "https://localhost:8080/"
        },
        "outputId": "b598d5be-7c52-4d9b-a012-52ed5c4371ce"
      },
      "execution_count": null,
      "outputs": [
        {
          "output_type": "stream",
          "name": "stdout",
          "text": [
            "              precision    recall  f1-score   support\n",
            "\n",
            "    Negetive       0.74      0.67      0.71     27554\n",
            "     Neutral       0.42      0.12      0.18     16062\n",
            "    Positive       0.89      0.97      0.93    148425\n",
            "\n",
            "    accuracy                           0.86    192041\n",
            "   macro avg       0.68      0.59      0.61    192041\n",
            "weighted avg       0.83      0.86      0.83    192041\n",
            "\n"
          ]
        }
      ]
    }
  ]
}